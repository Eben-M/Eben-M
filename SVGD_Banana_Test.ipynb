{
  "cells": [
    {
      "cell_type": "code",
      "execution_count": 1,
      "metadata": {
        "colab": {
          "base_uri": "https://localhost:8080/"
        },
        "id": "Zeu8_OT0x1kL",
        "outputId": "a78955d4-1ff5-48b9-ea3e-fe1d766ff92c"
      },
      "outputs": [
        {
          "output_type": "stream",
          "name": "stdout",
          "text": [
            "Mounted at /content/drive\n"
          ]
        }
      ],
      "source": [
        "import os, sys\n",
        "from google.colab import drive\n",
        "drive.mount('/content/drive')"
      ]
    },
    {
      "cell_type": "code",
      "execution_count": 2,
      "metadata": {
        "id": "YL7LTq9_yqbl"
      },
      "outputs": [],
      "source": [
        "import tensorflow as tf\n",
        "import tensorflow_probability as tfp\n",
        "tfd = tfp.distributions\n",
        "import timeit\n",
        "import numpy as np"
      ]
    },
    {
      "cell_type": "code",
      "execution_count": 3,
      "metadata": {
        "id": "yue5OIPPy88s"
      },
      "outputs": [],
      "source": [
        "import numpy as np\n",
        "from numpy import random as rnd\n",
        "#import matplotlib.pyplot as plt\n",
        "from matplotlib.colors import LogNorm\n",
        "import seaborn\n",
        "import seaborn as sns\n",
        "import matplotlib.pyplot as plt"
      ]
    },
    {
      "cell_type": "code",
      "source": [
        "sys.path.append('/content/drive/MyDrive/Kevitsa-master2/Data/')\n",
        "#from SVGD import svgd_kernel,gradient"
      ],
      "metadata": {
        "id": "s95y1z-Zp2H_"
      },
      "execution_count": 4,
      "outputs": []
    },
    {
      "cell_type": "code",
      "execution_count": 6,
      "metadata": {
        "id": "e4hcb3uhVgxj"
      },
      "outputs": [],
      "source": [
        "class Banana_dist:\n",
        "\n",
        "    def __init__(self, mu=[0., 0.], cov=[[1,  0.], [0.,  1]]):\n",
        "\n",
        "        # initiate the model\n",
        "\n",
        "        # prior\n",
        "        self.mu = mu\n",
        "        self.cov = cov\n",
        "\n",
        "        self.c = 0  # mean of observations\n",
        "        self.N = 100  # number of observation data\n",
        "        self.sigma2y = 1  # standard deviation of observation data\n",
        "        # generate the observation data\n",
        "        np.random.seed(121)\n",
        "        self.y_ = np.random.normal(loc=self.c, scale=self.sigma2y, size=self.N)\n",
        "        self.D = tf.convert_to_tensor(self.y_, dtype=tf.float32)#converting to tensor\n",
        "\n",
        "    @tf.function\n",
        "    def joint_log_post(self, theta):\n",
        "        \"\"\"Calculate the joint posterior of a given point\n",
        "\n",
        "        Arguments:\n",
        "            theta {[tensor:float32]} -- [2xn] tensor! eg: tf.constant([[1.,1.]])\n",
        "\n",
        "        Returns:\n",
        "            [tensor] -- value of the posterior\n",
        "        \"\"\"\n",
        "        # define random variables prior\n",
        "\n",
        "        D_n = tf.reshape(self.D, [self.D.shape[0], 1])\n",
        "        D_n = tf.tile(D_n, [1, theta.shape[0]])\n",
        "\n",
        "        mvn = tfd.MultivariateNormalTriL(\n",
        "            loc=self.mu,\n",
        "            scale_tril=tf.linalg.cholesky(self.cov))\n",
        "\n",
        "        # define likelihood\n",
        "        y = tfd.Normal(loc=tf.add(theta[:, 1], tf.pow(\n",
        "            theta[:, 0], 2.)), scale=self.sigma2y)\n",
        "        # return the posterior probability\n",
        "        return(mvn.log_prob(tf.squeeze(theta))\n",
        "               + tf.reduce_sum(y.log_prob(D_n), axis=0))\n",
        "\n",
        "\n",
        "# calculate the posterior density\n",
        "\n",
        "    def full_post(self):\n",
        "        self.x_1, self.y_1 = np.mgrid[-2:2:.03, -2:2:.03]\n",
        "        pos = np.empty(self.x_1.shape + (2,), dtype=np.float32)\n",
        "        pos[:, :, 0] = self.x_1\n",
        "        pos[:, :, 1] = self.y_1\n",
        "        pos = tf.convert_to_tensor(pos)\n",
        "        post = np.empty(self.x_1.shape)\n",
        "        for i in range(np.arange(-2, 2, .03).shape[0]):\n",
        "            for j in range(np.arange(-2, 2, .03).shape[0]):\n",
        "                post[i][j] = self.joint_log_post(\n",
        "                    tf.convert_to_tensor([pos[i][j]]))\n",
        "        return post\n",
        "\n",
        "    def draw_post(self, post=None, title=None):\n",
        "        Min = tf.constant([[-0., -0.2]])\n",
        "        Max = tf.constant([[0.01, 0.04]])\n",
        "        levels = np.arange(self.joint_log_post(Min), self.joint_log_post(\n",
        "            Max), (self.joint_log_post(Max) - self.joint_log_post(Min))/50)\n",
        "\n",
        "        if post is None:\n",
        "            post = self.full_post()\n",
        "        plt.contourf(self.x_1, self.y_1, post, levels=levels, alpha=0.7)\n",
        "        \n",
        "        #def sampleInitialParticles(shape, vrange):\n",
        "          #return tf.random.uniform(shape, *vrange, dtype=tf.float64)\n",
        "          \n",
        "        #valueRange = (-2, 2) # adjust when more multimodal\n",
        "        #x0 = sampleInitialParticles((250, 2), valueRange)\n",
        "        #x = tf.Variable(x0)\n",
        "\n",
        "        #plt.scatter(x[:, 0], x[:, 1], s= 0.8, c = 'k' )\n",
        "      \n",
        "\n",
        "        if title is not None:\n",
        "            plt.title(title)\n",
        "        plt.xlim(-1.5, 1.5)\n",
        "        plt.ylim(-2, 0.5)\n",
        "        plt.xlabel(\"x1\", fontsize=15)\n",
        "        plt.ylabel(\"x2\", fontsize=15)\n"
      ]
    },
    {
      "cell_type": "code",
      "source": [
        "mu_1= [0.,0.]\n",
        "\n",
        "cov_1 = [[ 1,  0.],\n",
        "        [ 0.,  1]]"
      ],
      "metadata": {
        "id": "nAvxlI6klvrj"
      },
      "execution_count": 7,
      "outputs": []
    },
    {
      "cell_type": "code",
      "source": [
        "Bana_dist = Banana_dist(mu_1,cov_1)\n",
        "Bana_dist.draw_post()"
      ],
      "metadata": {
        "colab": {
          "base_uri": "https://localhost:8080/",
          "height": 288
        },
        "id": "Il14k84agK2O",
        "outputId": "d0127e2c-759b-4ebd-c21b-e65a22a10ed9"
      },
      "execution_count": 8,
      "outputs": [
        {
          "output_type": "display_data",
          "data": {
            "text/plain": [
              "<Figure size 432x288 with 1 Axes>"
            ],
            "image/png": "[encoded data removed]"
          },
          "metadata": {
            "needs_background": "light"
          }
        }
      ]
    },
    {
      "cell_type": "code",
      "execution_count": 9,
      "metadata": {
        "id": "vXVbMp7U4PSO"
      },
      "outputs": [],
      "source": [
        "import numpy as np\n",
        "import tensorflow as tf\n",
        "import tensorflow_probability as tfp\n",
        "tfd = tfp.distributions\n",
        "\n",
        "dtype = tf.float32\n",
        "num_particles = 250\n",
        "num_latent = 2\n",
        "lr = 0.003\n",
        "alpha = .9\n",
        "fudge_factor = 1e-6\n",
        "num_iter = 10000\n",
        "range_limit = [-3, 3]\n",
        "npoints_plot = 50\n",
        "\n",
        "z_np = tf.convert_to_tensor(-np.random.randn(num_particles,\n",
        "                                             num_latent)*2.0, dtype=tf.float32)\n",
        "\n",
        "\n",
        "def svgd_kernel(X0):\n",
        "    XY = tf.matmul(X0, tf.transpose(X0))\n",
        "    X2_ = tf.reduce_sum(tf.square(X0), axis=1)\n",
        "\n",
        "    x2 = tf.reshape(X2_, shape=(tf.shape(X0)[0], 1))\n",
        "\n",
        "    X2e = tf.tile(x2, [1, tf.shape(X0)[0]])\n",
        "    ## (x1 -x2)^2 + (y1 -y2)^2\n",
        "    H = tf.subtract(tf.add(X2e, tf.transpose(X2e)), 2 * XY)\n",
        "\n",
        "    V = tf.reshape(H, [-1, 1])\n",
        "\n",
        "    # median distance\n",
        "    def get_median(v):\n",
        "        v = tf.reshape(v, [-1])\n",
        "        m = v.get_shape()[0]//2\n",
        "        return tf.nn.top_k(v, m).values[m-1]\n",
        "    h = get_median(V)\n",
        "    h = tf.sqrt(\n",
        "        0.5 * h / tf.math.log(tf.cast(tf.shape(X0)[0], tf.float32) + 1.0))\n",
        "\n",
        "    # compute the rbf kernel\n",
        "    Kxy = tf.exp(-H / h ** 2 / 2.0)\n",
        "\n",
        "    dxkxy = tf.negative(tf.matmul(Kxy, X0))\n",
        "    sumkxy = tf.expand_dims(tf.reduce_sum(Kxy, axis=1), 1)\n",
        "    dxkxy = tf.add(dxkxy, tf.multiply(X0, sumkxy)) / (h ** 2)\n",
        "\n",
        "    return (Kxy, dxkxy)\n",
        "\n",
        "\n",
        "def get_median(v):\n",
        "    v = tf.reshape(v, [-1])\n",
        "    m = v.get_shape()[0]//2\n",
        "    return tf.nn.top_k(v, m).values[m-1]\n",
        "\n",
        "\n",
        "@tf.function\n",
        "def gradient(z_np, unnormalized_posterior_log_prob):\n",
        "    with tf.GradientTape() as t:\n",
        "        t.watch(z_np)\n",
        "        f = unnormalized_posterior_log_prob(z_np)\n",
        "    log_p_grad = tf.squeeze(t.gradient(f, z_np))\n",
        "    return log_p_grad\n",
        "\n",
        "\n",
        "def run_svgd(unnormalized_posterior_log_prob):\n",
        "    global z_np\n",
        "    for _ in range(num_iter):\n",
        "        log_p_grad = gradient(z_np, unnormalized_posterior_log_prob)\n",
        "        kernel_matrix, kernel_gradients = svgd_kernel(z_np)\n",
        "        grad_theta = (tf.matmul(kernel_matrix, log_p_grad) +\n",
        "                      kernel_gradients)/num_particles\n",
        "        z_np = z_np+lr*grad_theta\n",
        "    return z_np\n"
      ]
    },
    {
      "cell_type": "code",
      "source": [
        "class VI():\n",
        "    def __init__(self, target_distribution=Banana_dist()):\n",
        "        self.target_distribution = target_distribution\n",
        "\n",
        "    @tf.function\n",
        "    def unnormalized_posterior_log_prob(self, *args):\n",
        "        return self.target_distribution.joint_log_post(*args)\n",
        "\n",
        "    def run_inference(self):\n",
        "        self.results = run_svgd(self.unnormalized_posterior_log_prob)\n",
        "        return self.results\n",
        "\n",
        "    def plot(self):\n",
        "        range_limit = [-2, 2]\n",
        "        _, ax = plt.subplots(figsize=(15, 7))\n",
        "        ax = plt.subplot(1, 3, 1, aspect='equal')\n",
        "        plt.scatter(self.results[:, 0], self.results[:, 1], s= 2.8, c = 'k')\n",
        "        plt.xlim(range_limit)\n",
        "        plt.ylim(range_limit)\n",
        "        ax.set_title('Updated particles: $p_0(z)$')\n"
      ],
      "metadata": {
        "id": "iQVv4ybClV9C"
      },
      "execution_count": 10,
      "outputs": []
    },
    {
      "cell_type": "code",
      "source": [
        "vi = VI(Bana_dist)\n",
        "result = vi.run_inference()"
      ],
      "metadata": {
        "id": "osFWXJjIlfPv"
      },
      "execution_count": 11,
      "outputs": []
    },
    {
      "cell_type": "code",
      "source": [
        "vi.plot()"
      ],
      "metadata": {
        "colab": {
          "base_uri": "https://localhost:8080/",
          "height": 312
        },
        "id": "wKsD_4SQliwD",
        "outputId": "0c030676-e3d4-496d-92ac-3ab35284d4f7"
      },
      "execution_count": null,
      "outputs": [
        {
          "output_type": "display_data",
          "data": {
            "text/plain": [
              "<Figure size 1080x504 with 1 Axes>"
            ],
            "image/png": "[encoded data removed]"
          },
          "metadata": {
            "needs_background": "light"
          }
        }
      ]
    },
    {
      "cell_type": "code",
      "source": [
        "from IPython.display import HTML\n",
        "from matplotlib import animation"
      ],
      "metadata": {
        "id": "8jd5MpuImq7M"
      },
      "execution_count": 12,
      "outputs": []
    },
    {
      "cell_type": "code",
      "source": [
        "fig, ax = plt.subplots(figsize=(7, 7))\n",
        "\n",
        "ax.set_xlim(( -2, 2))\n",
        "ax.set_ylim((-2, 2))\n",
        "\n",
        "num_particles = 250\n",
        "num_latent = 2\n",
        "num_iter = 10000\n",
        "range_limit = [-2, 2]\n",
        "npoints_plot = 50\n",
        "\n",
        "z_np = tf.convert_to_tensor(-np.random.randn(num_particles, num_latent)*2.0,dtype = tf.float32)\n",
        "particels, = ax.plot(z_np[:,0], z_np[:,1], '.',c = 'k')\n",
        "#ax.set_facecolor('darkslateblue')\n",
        "#o = plt.contourf(*data, 25, levels=10, cmap=\"RdBu_r\")\n",
        "\n",
        "plt.xlabel('x', fontsize=12)\n",
        "plt.ylabel('y', fontsize=12)\n",
        "plt.title('SVGD for 2D Rosenbrock (Banana) Distribution')\n",
        "\n",
        "lr = 0.002\n",
        "\n",
        "def init():\n",
        "    particels.set_data([], [])\n",
        "    return (particels,)\n",
        "\n",
        "\n",
        "def animate(i):\n",
        "    global z_np, lr\n",
        "    log_p_grad = gradient(z_np,Bana_dist.joint_log_post)\n",
        "    kernel_matrix, kernel_gradients = svgd_kernel(z_np)\n",
        "    grad_theta = (tf.matmul(kernel_matrix, log_p_grad) + kernel_gradients)/num_particles\n",
        "    z_np = z_np+lr*grad_theta\n",
        "    particels.set_data(z_np[:,0], z_np[:,1])\n",
        "\n",
        "    return (particels,)\n",
        "\n",
        "\n",
        "anim = animation.FuncAnimation(fig, animate, init_func=init, frames=2500,interval=20, blit=False)\n",
        "    \n",
        "anim.save('Banana_SVGD.mp4')\n"
      ],
      "metadata": {
        "colab": {
          "base_uri": "https://localhost:8080/",
          "height": 461
        },
        "id": "QmZ_hFbsm2Iw",
        "outputId": "01f05065-b2b0-4984-f0dc-e612fab44653"
      },
      "execution_count": 14,
      "outputs": [
        {
          "output_type": "display_data",
          "data": {
            "text/plain": [
              "<Figure size 504x504 with 1 Axes>"
            ],
            "image/png": "[encoded data removed]"
          },
          "metadata": {
            "needs_background": "light"
          }
        }
      ]
    }
  ],
  "metadata": {
    "accelerator": "GPU",
    "colab": {
      "collapsed_sections": [],
      "provenance": []
    },
    "kernelspec": {
      "display_name": "Python 3",
      "name": "python3"
    },
    "language_info": {
      "name": "python"
    }
  },
  "nbformat": 4,
  "nbformat_minor": 0
}